{
 "cells": [
  {
   "cell_type": "code",
   "execution_count": 1,
   "metadata": {},
   "outputs": [],
   "source": [
    "from pathlib import Path\n",
    "import sys\n",
    "import os\n",
    "import json\n",
    "sys.path.append(\"..\")"
   ]
  },
  {
   "cell_type": "code",
   "execution_count": 2,
   "metadata": {},
   "outputs": [],
   "source": [
    "ENTITIES_DIR = Path(os.getcwd()) / \"data\" / \"mm_inp_dataset\" / \"entities\"\n",
    "TRAIN_DIR = Path(os.getcwd()) / \"data\" / \"mm_inp_dataset\" / \"images\" / \"train\""
   ]
  },
  {
   "cell_type": "code",
   "execution_count": 3,
   "metadata": {},
   "outputs": [],
   "source": [
    "masks_per_images = {}\n",
    "noun_chunks_per_images = {}\n",
    "train_files = set(os.listdir(TRAIN_DIR))\n",
    "for entity_dir in ENTITIES_DIR.iterdir():\n",
    "    with open(entity_dir / \"annotations.json\", \"r\") as f:\n",
    "        if not f\"{entity_dir.name}.jpg\" in train_files:\n",
    "            continue\n",
    "        annotations = json.load(f)\n",
    "        if not len(annotations) in masks_per_images:\n",
    "            masks_per_images[len(annotations)] = 0\n",
    "        masks_per_images[len(annotations)] += 1\n",
    "        for k, v in annotations.items():\n",
    "            if not v[\"noun_chunk_root\"] in noun_chunks_per_images:\n",
    "                noun_chunks_per_images[v[\"noun_chunk_root\"]] = 0\n",
    "            noun_chunks_per_images[v[\"noun_chunk_root\"]] += 1"
   ]
  },
  {
   "cell_type": "code",
   "execution_count": 4,
   "metadata": {},
   "outputs": [
    {
     "name": "stderr",
     "output_type": "stream",
     "text": [
      "/home/nicola/miniconda3/envs/i-dream-my-painting/lib/python3.12/site-packages/tqdm/auto.py:21: TqdmWarning: IProgress not found. Please update jupyter and ipywidgets. See https://ipywidgets.readthedocs.io/en/stable/user_install.html\n",
      "  from .autonotebook import tqdm as notebook_tqdm\n"
     ]
    }
   ],
   "source": [
    "from inpainting.data.datasets import LlavaDataset\n",
    "import torch\n",
    "\n",
    "dataset = LlavaDataset(\n",
    "    data_dir=Path(os.getcwd()) / \"data\" / \"mm_inp_dataset\",\n",
    "    max_concepts=5,\n",
    "    generator=torch.Generator().manual_seed(42),\n",
    "    remove_intersections=False,\n",
    "    shuffle_concepts=True,\n",
    "    masked_area_threshold=0.65,\n",
    "    return_entity_PILs=False,\n",
    "    only_gray_concept=False,\n",
    "    override_gray=False,\n",
    ")"
   ]
  },
  {
   "cell_type": "code",
   "execution_count": null,
   "metadata": {},
   "outputs": [],
   "source": [
    "masks_per_images, noun_chunks_per_images"
   ]
  },
  {
   "cell_type": "code",
   "execution_count": 5,
   "metadata": {},
   "outputs": [],
   "source": [
    "from tqdm import tqdm"
   ]
  },
  {
   "cell_type": "code",
   "execution_count": 6,
   "metadata": {},
   "outputs": [
    {
     "name": "stderr",
     "output_type": "stream",
     "text": [
      "100%|██████████| 92276/92276 [29:55<00:00, 51.38it/s]\n"
     ]
    }
   ],
   "source": [
    "masks_per_images_2 = {}\n",
    "for x in tqdm(dataset):\n",
    "    if not len(x[\"entity_captions\"]) in masks_per_images_2:\n",
    "        masks_per_images_2[len(x[\"entity_captions\"])] = 0\n",
    "    masks_per_images_2[len(x[\"entity_captions\"])] += 1"
   ]
  },
  {
   "cell_type": "code",
   "execution_count": 8,
   "metadata": {},
   "outputs": [
    {
     "data": {
      "text/plain": [
       "0.0004768303784299276"
      ]
     },
     "execution_count": 8,
     "metadata": {},
     "output_type": "execute_result"
    }
   ],
   "source": [
    "dataset.n_invisible / sum(masks_per_images_2.values())"
   ]
  },
  {
   "cell_type": "code",
   "execution_count": null,
   "metadata": {},
   "outputs": [],
   "source": [
    "masks_per_images_2"
   ]
  },
  {
   "cell_type": "code",
   "execution_count": null,
   "metadata": {},
   "outputs": [],
   "source": [
    "import matplotlib.pyplot as plt\n",
    "\n",
    "from matplotlib import rcParams\n",
    "\n",
    "# Set the font globally\n",
    "rcParams[\"font.family\"] = \"Roboto\"\n",
    "\n",
    "# Optional: Set font for specific styles\n",
    "rcParams[\"font.sans-serif\"] = [\"Roboto\"]\n",
    "rcParams[\"font.serif\"] = [\"Roboto\"]"
   ]
  },
  {
   "cell_type": "code",
   "execution_count": null,
   "metadata": {},
   "outputs": [],
   "source": [
    "# Sort objects by frequency\n",
    "objects_count = dict(sorted(noun_chunks_per_images.items(), key=lambda item: item[1], reverse=True))\n",
    "\n",
    "# make the keys strings\n",
    "objects_count = {str(k): v for k, v in objects_count.items()}\n",
    "\n",
    "# keep only th 100 most frequent objects\n",
    "objects_to_plot = dict(list(objects_count.items())[:50])\n",
    "\n",
    "# Plot\n",
    "plt.figure(figsize=(10, 10))\n",
    "plt.barh(list(objects_to_plot.keys()), list(objects_to_plot.values()))\n",
    "plt.xlabel(\"No. masks\", fontsize=16)\n",
    "plt.ylabel(\"Noun chunk roots\", fontsize=16)\n",
    "plt.xticks(fontsize=14)\n",
    "plt.yticks(fontsize=14)\n",
    "plt.savefig(\"assets/noun_chunk_roots.svg\", format=\"svg\", bbox_inches=\"tight\")"
   ]
  },
  {
   "cell_type": "markdown",
   "metadata": {},
   "source": []
  }
 ],
 "metadata": {
  "kernelspec": {
   "display_name": "i-dream-my-painting",
   "language": "python",
   "name": "python3"
  },
  "language_info": {
   "codemirror_mode": {
    "name": "ipython",
    "version": 3
   },
   "file_extension": ".py",
   "mimetype": "text/x-python",
   "name": "python",
   "nbconvert_exporter": "python",
   "pygments_lexer": "ipython3",
   "version": "3.12.4"
  }
 },
 "nbformat": 4,
 "nbformat_minor": 2
}
