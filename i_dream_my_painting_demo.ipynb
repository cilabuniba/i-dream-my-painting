{
  "cells": [
    {
      "cell_type": "markdown",
      "metadata": {
        "colab_type": "text",
        "id": "view-in-github"
      },
      "source": [
        "<a href=\"https://colab.research.google.com/github/cilabuniba/i-dream-my-painting/blob/main/i_dream_my_painting_demo.ipynb\" target=\"_parent\"><img src=\"https://colab.research.google.com/assets/colab-badge.svg\" alt=\"Open In Colab\"/></a>"
      ]
    },
    {
      "cell_type": "markdown",
      "metadata": {
        "id": "NTm1z7WuDHbL"
      },
      "source": [
        "# 🎨 I Dream My Painting: Demo\n",
        "\n",
        "**This Colab Notebook requires a GPU runtime. Change the runtime to use a T4 GPU.**\n",
        "\n",
        "This notebook launches a demo of IDMP where you can use our pipeline to inpaint images interactively using Streamlit."
      ]
    },
    {
      "cell_type": "markdown",
      "metadata": {
        "id": "IeGUwUtIEOfk"
      },
      "source": [
        "## Setup HF Token\n",
        "\n",
        "You will need to download models from the Hugging Face Hub:\n",
        "\n",
        "1. Make sure to have a [Hugging Face account](https://huggingface.co/join) and be logged in.\n",
        "2. Log in locally by entering your [Hugging Face Hub access token](https://huggingface.co/docs/hub/security-tokens#what-are-user-access-tokens) below, which can be [found here](https://huggingface.co/settings/tokens)"
      ]
    },
    {
      "cell_type": "code",
      "execution_count": null,
      "metadata": {
        "id": "SlhoML_Z34AA"
      },
      "outputs": [],
      "source": [
        "from huggingface_hub import login\n",
        "\n",
        "token = ###### FILL ME!!! ######\n",
        "login(token=token)"
      ]
    },
    {
      "cell_type": "markdown",
      "metadata": {
        "id": "D0gm-9fPrsyG"
      },
      "source": [
        "Now you can run all the cells below to start the demo... The process will require around ~10/15 minutes to install dependencies and download models."
      ]
    },
    {
      "cell_type": "markdown",
      "metadata": {
        "id": "tqxKpgGHqO_v"
      },
      "source": [
        "## Install and Import Libraries"
      ]
    },
    {
      "cell_type": "code",
      "execution_count": null,
      "metadata": {
        "id": "JLVRMXx_viBG"
      },
      "outputs": [],
      "source": [
        "!pip install -q gdown\n",
        "!pip install -q streamlit==1.40.2\n",
        "!pip install -q streamlit-drawable-canvas==0.9.3\n",
        "!pip install -q transformers==4.44.0\n",
        "!pip install -q accelerate==0.33.0\n",
        "!pip install -q diffusers==0.29.2\n",
        "!pip install -U bitsandbytes\n",
        "!pip install -q peft==0.12.0\n",
        "!npm install -q localtunnel\n",
        "!pip install -q diffusers==0.29.2\n",
        "!pip install --upgrade --force-reinstall numpy transformers\n",
        "!pip install numpy==1.26.4 --force-reinstall"
      ]
    },
    {
      "cell_type": "markdown",
      "metadata": {},
      "source": [
        "Now you will be asked to reload the runtime, accept and run all the cells except the cell above."
      ]
    },
    {
      "cell_type": "code",
      "execution_count": null,
      "metadata": {},
      "outputs": [],
      "source": [
        "import gdown\n",
        "import os\n",
        "from transformers import LlavaNextProcessor, LlavaNextForConditionalGeneration\n",
        "from diffusers import StableDiffusionInpaintPipeline\n",
        "import torch"
      ]
    },
    {
      "cell_type": "markdown",
      "metadata": {
        "id": "yzDAc-_NqU6r"
      },
      "source": [
        "## Download the Repository"
      ]
    },
    {
      "cell_type": "code",
      "execution_count": null,
      "metadata": {
        "id": "Y4t7K_DIrtSL"
      },
      "outputs": [],
      "source": [
        "# Replace with your actual repository URL\n",
        "repo_url = \"https://github.com/cilabuniba/i-dream-my-painting.git\"\n",
        "\n",
        "# Clone the repository using the authenticated URL\n",
        "!git clone {repo_url}\n",
        "\n",
        "# Optionally, change the current directory to the cloned repository\n",
        "# !cd YOUR_PRIVATE_REPO"
      ]
    },
    {
      "cell_type": "markdown",
      "metadata": {
        "id": "Gsy3NTSbqZLL"
      },
      "source": [
        "## Download Stable Diffusion 2 Inpainting"
      ]
    },
    {
      "cell_type": "code",
      "execution_count": null,
      "metadata": {
        "id": "SJ_e4Wgoe3V6"
      },
      "outputs": [],
      "source": [
        "import huggingface_hub\n",
        "\n",
        "huggingface_hub.snapshot_download(\n",
        "    \"stabilityai/stable-diffusion-2-inpainting\",\n",
        "    local_dir=\"models/stable-diffusion-2-inpainting\",\n",
        "    ignore_patterns=[\"*.safetensors\", \"*.fp16.bin\", \"*model_index.json\", \"*unet/config.json\"]\n",
        ")"
      ]
    },
    {
      "cell_type": "markdown",
      "metadata": {
        "id": "l3G7f3VcqeB8"
      },
      "source": [
        "## Get Our Model Checkpoints"
      ]
    },
    {
      "cell_type": "code",
      "execution_count": null,
      "metadata": {
        "id": "FaIJ0lhbtOhq"
      },
      "outputs": [],
      "source": [
        "id = \"1_O7XTDjU-EgbjGwVT194NQJemdZXcrMe\"\n",
        "gdown.download_folder(id=id)"
      ]
    },
    {
      "cell_type": "code",
      "execution_count": null,
      "metadata": {
        "id": "tRMONFKKvyEC"
      },
      "outputs": [],
      "source": [
        "!unzip /content/models/multimask.zip\n",
        "!unzip /content/models/rca.zip"
      ]
    },
    {
      "cell_type": "markdown",
      "metadata": {
        "id": "x_u1GlVAqrJF"
      },
      "source": [
        "## Download LLaVA"
      ]
    },
    {
      "cell_type": "code",
      "execution_count": null,
      "metadata": {
        "id": "utBFlqGa3TXP"
      },
      "outputs": [],
      "source": [
        "processor = LlavaNextProcessor.from_pretrained(\"llava-hf/llava-v1.6-vicuna-7b-hf\")\n",
        "model = LlavaNextForConditionalGeneration.from_pretrained(\"llava-hf/llava-v1.6-vicuna-7b-hf\", torch_dtype=torch.float16, low_cpu_mem_usage=True)\n",
        "del processor\n",
        "del model\n",
        "torch.cuda.empty_cache()"
      ]
    },
    {
      "cell_type": "markdown",
      "metadata": {
        "id": "7CJ7Naibquqk"
      },
      "source": [
        "## Setup Paths"
      ]
    },
    {
      "cell_type": "code",
      "execution_count": null,
      "metadata": {
        "id": "wjz1w4MBkqV_"
      },
      "outputs": [],
      "source": [
        "os.rename(\"/content/i-dream-my-painting/models/sd_replacements/model_index.json\", \"/content/i-dream-my-painting/models/stable-diffusion-2-inpainting/model_index.json\")\n",
        "os.rename(\"/content/i-dream-my-painting/models/sd_replacements/config.json\", \"/content/i-dream-my-painting/models/stable-diffusion-2-inpainting/unet/config.json\")"
      ]
    },
    {
      "cell_type": "code",
      "execution_count": null,
      "metadata": {
        "id": "LXOL1tlhthSl"
      },
      "outputs": [],
      "source": [
        "os.rename(\"/content/multimask\", \"/content/i-dream-my-painting/models/llava/multimask\")\n",
        "os.rename(\"/content/rca\", \"/content/i-dream-my-painting/models/sd/rca\")"
      ]
    },
    {
      "cell_type": "markdown",
      "metadata": {
        "id": "f1AFtVZVzWrF"
      },
      "source": [
        "## Download Example Images"
      ]
    },
    {
      "cell_type": "code",
      "execution_count": null,
      "metadata": {
        "id": "K9CN7XK-zZ7b"
      },
      "outputs": [],
      "source": [
        "# prompt: download mona lisa, starry night and the birth of venus from wikiart and put them in /content/i-dream-my-painting/mm_inp_dataset/images\n",
        "import os\n",
        "import requests\n",
        "from io import BytesIO\n",
        "from PIL import Image\n",
        "\n",
        "def download_image(image_url, image_path):\n",
        "    try:\n",
        "        response = requests.get(image_url, stream=True)\n",
        "        response.raise_for_status()  # Raise an exception for non-200 status codes\n",
        "\n",
        "        image = Image.open(BytesIO(response.content))\n",
        "        image.save(image_path)\n",
        "        print(f\"Downloaded: {image_path}\")\n",
        "    except requests.exceptions.RequestException as e:\n",
        "        print(f\"Error downloading {image_url}: {e}\")\n",
        "    except Exception as e:\n",
        "        print(f\"Error processing {image_url}: {e}\")\n",
        "\n",
        "\n",
        "image_urls = {\n",
        "    \"Mona Lisa\": \"https://uploads7.wikiart.org/images/leonardo-da-vinci/mona-lisa.jpg!Large.jpg\",\n",
        "    \"Starry Night\": \"https://uploads0.wikiart.org/00175/images/vincent-van-gogh/starry-night-over-the-rhone.jpg!Large.jpg\",\n",
        "    \"The Birth of Venus\": \"https://uploads6.wikiart.org/images/sandro-botticelli/the-birth-of-venus-1485(1).jpg!Large.jpg\"\n",
        "}\n",
        "\n",
        "\n",
        "output_dir = \"/content/i-dream-my-painting/data/mm_inp_dataset/images/test\"\n",
        "os.makedirs(output_dir, exist_ok=True)\n",
        "\n",
        "for image_name, image_url in image_urls.items():\n",
        "    image_path = os.path.join(output_dir, f\"{image_name.replace(' ', '_')}.jpg\")\n",
        "    download_image(image_url, image_path)"
      ]
    },
    {
      "cell_type": "markdown",
      "metadata": {
        "id": "KaLqogqtq1VJ"
      },
      "source": [
        "## Launch the Demo!\n",
        "\n",
        "Here we are! Execute the following two cells to start the demo."
      ]
    },
    {
      "cell_type": "code",
      "execution_count": null,
      "metadata": {
        "id": "LWf6iMDXz7YK"
      },
      "outputs": [],
      "source": [
        "import urllib\n",
        "print(\"Password/Enpoint IP for localtunnel is:\",urllib.request.urlopen('https://ipv4.icanhazip.com').read().decode('utf8').strip(\"\\n\"))"
      ]
    },
    {
      "cell_type": "code",
      "execution_count": null,
      "metadata": {},
      "outputs": [],
      "source": [
        "!pip install -U bitsandbytes"
      ]
    },
    {
      "cell_type": "markdown",
      "metadata": {
        "id": "tjg9R59_rEhE"
      },
      "source": [
        "Click on the produced URL and insert the above IP address in the page that opens to access the demo. In case of errors try to refresh the page, or try to access the URL using a different browser... Happy inpainting!"
      ]
    },
    {
      "cell_type": "code",
      "execution_count": null,
      "metadata": {
        "id": "h5yHrVuMwZSD"
      },
      "outputs": [],
      "source": [
        "os.chdir(\"/content/i-dream-my-painting\")\n",
        "!streamlit run inpainting/demo.py --server.fileWatcherType none &>/content/logs.txt &\n",
        "!npx localtunnel --port 8501"
      ]
    }
  ],
  "metadata": {
    "accelerator": "GPU",
    "colab": {
      "authorship_tag": "ABX9TyMgIEN/+c/lQN78QMzL+r0F",
      "gpuType": "T4",
      "include_colab_link": true,
      "provenance": []
    },
    "kernelspec": {
      "display_name": "i-dream-my-painting",
      "language": "python",
      "name": "python3"
    },
    "language_info": {
      "codemirror_mode": {
        "name": "ipython",
        "version": 3
      },
      "file_extension": ".py",
      "mimetype": "text/x-python",
      "name": "python",
      "nbconvert_exporter": "python",
      "pygments_lexer": "ipython3",
      "version": "3.12.4"
    }
  },
  "nbformat": 4,
  "nbformat_minor": 0
}
