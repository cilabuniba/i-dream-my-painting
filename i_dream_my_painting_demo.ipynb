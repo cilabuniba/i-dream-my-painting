{
  "nbformat": 4,
  "nbformat_minor": 0,
  "metadata": {
    "colab": {
      "provenance": [],
      "gpuType": "T4",
      "authorship_tag": "ABX9TyMgIEN/+c/lQN78QMzL+r0F",
      "include_colab_link": true
    },
    "kernelspec": {
      "name": "python3",
      "display_name": "Python 3"
    },
    "language_info": {
      "name": "python"
    },
    "accelerator": "GPU"
  },
  "cells": [
    {
      "cell_type": "markdown",
      "metadata": {
        "id": "view-in-github",
        "colab_type": "text"
      },
      "source": [
        "<a href=\"https://colab.research.google.com/github/nicolafan/i-dream-my-painting2/blob/main/i_dream_my_painting_demo.ipynb\" target=\"_parent\"><img src=\"https://colab.research.google.com/assets/colab-badge.svg\" alt=\"Open In Colab\"/></a>"
      ]
    },
    {
      "cell_type": "markdown",
      "source": [
        "# 🎨 I Dream My Painting: Demo\n",
        "\n",
        "**This Colab Notebook requires a GPU runtime. Change the runtime to use a T4 GPU.**\n",
        "\n",
        "This notebook launches a demo of IDMP where you can use our pipeline to inpaint images interactively using Streamlit."
      ],
      "metadata": {
        "id": "NTm1z7WuDHbL"
      }
    },
    {
      "cell_type": "markdown",
      "source": [
        "## Setup HF Token\n",
        "\n",
        "You will need to download models from the Hugging Face Hub:\n",
        "\n",
        "1. Make sure to have a [Hugging Face account](https://huggingface.co/join) and be logged in.\n",
        "2. Log in locally by entering your [Hugging Face Hub access token](https://huggingface.co/docs/hub/security-tokens#what-are-user-access-tokens) below, which can be [found here](https://huggingface.co/settings/tokens)"
      ],
      "metadata": {
        "id": "IeGUwUtIEOfk"
      }
    },
    {
      "cell_type": "code",
      "source": [
        "from huggingface_hub import login\n",
        "\n",
        "token = ###### FILL ME!!! ######\n",
        "login(token=token)"
      ],
      "metadata": {
        "id": "SlhoML_Z34AA"
      },
      "execution_count": null,
      "outputs": []
    },
    {
      "cell_type": "markdown",
      "source": [
        "Now you can run all the cells below to start the demo... The process will require around ~10/15 minutes to install dependencies and download models."
      ],
      "metadata": {
        "id": "D0gm-9fPrsyG"
      }
    },
    {
      "cell_type": "markdown",
      "source": [
        "## Install and Import Libraries"
      ],
      "metadata": {
        "id": "tqxKpgGHqO_v"
      }
    },
    {
      "cell_type": "code",
      "source": [
        "!pip install -q gdown\n",
        "!pip install -q streamlit\n",
        "!pip install -q streamlit-drawable-canvas\n",
        "!pip install -q bitsandbytes\n",
        "!npm install -q localtunnel\n",
        "!pip install -q diffusers==0.29.2\n",
        "\n",
        "import gdown\n",
        "import os\n",
        "from transformers import LlavaNextProcessor, LlavaNextForConditionalGeneration\n",
        "from diffusers import StableDiffusionInpaintPipeline\n",
        "import torch"
      ],
      "metadata": {
        "id": "JLVRMXx_viBG"
      },
      "execution_count": null,
      "outputs": []
    },
    {
      "cell_type": "markdown",
      "source": [
        "## Download the Repository"
      ],
      "metadata": {
        "id": "yzDAc-_NqU6r"
      }
    },
    {
      "cell_type": "code",
      "source": [
        "# Replace with your actual repository URL\n",
        "repo_url = \"https://github.com/cilabuniba/i-dream-my-painting.git\"\n",
        "\n",
        "# Clone the repository using the authenticated URL\n",
        "!git clone {repo_url}\n",
        "\n",
        "# Optionally, change the current directory to the cloned repository\n",
        "# !cd YOUR_PRIVATE_REPO"
      ],
      "metadata": {
        "id": "Y4t7K_DIrtSL"
      },
      "execution_count": null,
      "outputs": []
    },
    {
      "cell_type": "markdown",
      "source": [
        "## Download Stable Diffusion 2 Inpainting"
      ],
      "metadata": {
        "id": "Gsy3NTSbqZLL"
      }
    },
    {
      "cell_type": "code",
      "source": [
        "import huggingface_hub\n",
        "\n",
        "huggingface_hub.snapshot_download(\n",
        "    \"stabilityai/stable-diffusion-2-inpainting\",\n",
        "    local_dir=\"/content/i-dream-my-painting/models/stable-diffusion-2-inpainting\",\n",
        "    ignore_patterns=[\"*.safetensors\", \"*.fp16.bin\", \"*model_index.json\", \"*unet/config.json\"]\n",
        ")"
      ],
      "metadata": {
        "id": "SJ_e4Wgoe3V6"
      },
      "execution_count": null,
      "outputs": []
    },
    {
      "cell_type": "markdown",
      "source": [
        "## Get Our Model Checkpoints"
      ],
      "metadata": {
        "id": "l3G7f3VcqeB8"
      }
    },
    {
      "cell_type": "code",
      "source": [
        "id = \"1_O7XTDjU-EgbjGwVT194NQJemdZXcrMe\"\n",
        "gdown.download_folder(id=id)"
      ],
      "metadata": {
        "id": "FaIJ0lhbtOhq"
      },
      "execution_count": null,
      "outputs": []
    },
    {
      "cell_type": "code",
      "source": [
        "!unzip /content/models/multimask.zip\n",
        "!unzip /content/models/rca.zip"
      ],
      "metadata": {
        "id": "tRMONFKKvyEC"
      },
      "execution_count": null,
      "outputs": []
    },
    {
      "cell_type": "markdown",
      "source": [
        "## Download LLaVA"
      ],
      "metadata": {
        "id": "x_u1GlVAqrJF"
      }
    },
    {
      "cell_type": "code",
      "source": [
        "processor = LlavaNextProcessor.from_pretrained(\"llava-hf/llava-v1.6-vicuna-7b-hf\")\n",
        "model = LlavaNextForConditionalGeneration.from_pretrained(\"llava-hf/llava-v1.6-vicuna-7b-hf\", torch_dtype=torch.float16, low_cpu_mem_usage=True)\n",
        "del processor\n",
        "del model\n",
        "torch.cuda.empty_cache()"
      ],
      "metadata": {
        "id": "utBFlqGa3TXP"
      },
      "execution_count": null,
      "outputs": []
    },
    {
      "cell_type": "markdown",
      "source": [
        "## Setup Paths"
      ],
      "metadata": {
        "id": "7CJ7Naibquqk"
      }
    },
    {
      "cell_type": "code",
      "source": [
        "os.rename(\"/content/i-dream-my-painting/models/sd_replacements/model_index.json\", \"/content/i-dream-my-painting/models/stable-diffusion-2-inpainting/model_index.json\")\n",
        "os.rename(\"/content/i-dream-my-painting/models/sd_replacements/config.json\", \"/content/i-dream-my-painting/models/stable-diffusion-2-inpainting/unet/config.json\")"
      ],
      "metadata": {
        "id": "wjz1w4MBkqV_"
      },
      "execution_count": null,
      "outputs": []
    },
    {
      "cell_type": "code",
      "source": [
        "os.rename(\"/content/multimask\", \"/content/i-dream-my-painting/models/llava/multimask\")\n",
        "os.rename(\"/content/rca\", \"/content/i-dream-my-painting/models/sd/rca\")"
      ],
      "metadata": {
        "id": "LXOL1tlhthSl"
      },
      "execution_count": null,
      "outputs": []
    },
    {
      "cell_type": "markdown",
      "source": [
        "## Download Example Images"
      ],
      "metadata": {
        "id": "f1AFtVZVzWrF"
      }
    },
    {
      "cell_type": "code",
      "source": [
        "# prompt: download mona lisa, starry night and the birth of venus from wikiart and put them in /content/i-dream-my-painting/mm_inp_dataset/images\n",
        "import os\n",
        "import requests\n",
        "from io import BytesIO\n",
        "from PIL import Image\n",
        "\n",
        "def download_image(image_url, image_path):\n",
        "    try:\n",
        "        response = requests.get(image_url, stream=True)\n",
        "        response.raise_for_status()  # Raise an exception for non-200 status codes\n",
        "\n",
        "        image = Image.open(BytesIO(response.content))\n",
        "        image.save(image_path)\n",
        "        print(f\"Downloaded: {image_path}\")\n",
        "    except requests.exceptions.RequestException as e:\n",
        "        print(f\"Error downloading {image_url}: {e}\")\n",
        "    except Exception as e:\n",
        "        print(f\"Error processing {image_url}: {e}\")\n",
        "\n",
        "\n",
        "image_urls = {\n",
        "    \"Mona Lisa\": \"https://uploads7.wikiart.org/images/leonardo-da-vinci/mona-lisa.jpg!Large.jpg\",\n",
        "    \"Starry Night\": \"https://uploads0.wikiart.org/00175/images/vincent-van-gogh/starry-night-over-the-rhone.jpg!Large.jpg\",\n",
        "    \"The Birth of Venus\": \"https://uploads6.wikiart.org/images/sandro-botticelli/the-birth-of-venus-1485(1).jpg!Large.jpg\"\n",
        "}\n",
        "\n",
        "\n",
        "output_dir = \"/content/i-dream-my-painting/data/mm_inp_dataset/images\"\n",
        "os.makedirs(output_dir, exist_ok=True)\n",
        "\n",
        "for image_name, image_url in image_urls.items():\n",
        "    image_path = os.path.join(output_dir, f\"{image_name.replace(' ', '_')}.jpg\")\n",
        "    download_image(image_url, image_path)"
      ],
      "metadata": {
        "id": "K9CN7XK-zZ7b"
      },
      "execution_count": null,
      "outputs": []
    },
    {
      "cell_type": "markdown",
      "source": [
        "## Launch the Demo!\n",
        "\n",
        "Here we are! Execute the following two cells to start the demo."
      ],
      "metadata": {
        "id": "KaLqogqtq1VJ"
      }
    },
    {
      "cell_type": "code",
      "source": [
        "import urllib\n",
        "print(\"Password/Enpoint IP for localtunnel is:\",urllib.request.urlopen('https://ipv4.icanhazip.com').read().decode('utf8').strip(\"\\n\"))"
      ],
      "metadata": {
        "id": "LWf6iMDXz7YK"
      },
      "execution_count": null,
      "outputs": []
    },
    {
      "cell_type": "markdown",
      "source": [
        "Click on the produced URL and insert the above IP address in the page that opens to access the demo. In case of errors try to refresh the page, or try to access the URL using a different browser... Happy inpainting!"
      ],
      "metadata": {
        "id": "tjg9R59_rEhE"
      }
    },
    {
      "cell_type": "code",
      "source": [
        "os.chdir(\"/content/i-dream-my-painting\")\n",
        "!streamlit run inpainting/demo.py --server.fileWatcherType none &>/content/logs.txt &\n",
        "!npx localtunnel --port 8501"
      ],
      "metadata": {
        "id": "h5yHrVuMwZSD"
      },
      "execution_count": null,
      "outputs": []
    }
  ]
}